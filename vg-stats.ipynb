{
 "cells": [
  {
   "cell_type": "markdown",
   "metadata": {},
   "source": [
    "# Lab 12: Data Analysis with Pandas\n",
    "## Video Game Sales Data from more than 16,500 games\n",
    "#### By: Joseph Zabaleta \n",
    "##### Date: 20200527"
   ]
  },
  {
   "cell_type": "code",
   "execution_count": 3,
   "metadata": {},
   "outputs": [],
   "source": [
    "import pandas as pd"
   ]
  },
  {
   "cell_type": "code",
   "execution_count": 4,
   "metadata": {},
   "outputs": [
    {
     "output_type": "execute_result",
     "data": {
      "text/plain": "   Rank               Name Platform    Year     Genre Publisher  NA_Sales  \\\n0     1         Wii Sports      Wii  2006.0    Sports  Nintendo     41.49   \n1     2  Super Mario Bros.      NES  1985.0  Platform  Nintendo     29.08   \n2     3     Mario Kart Wii      Wii  2008.0    Racing  Nintendo     15.85   \n\n   EU_Sales  JP_Sales  Other_Sales  Global_Sales  \n0     29.02      3.77         8.46         82.74  \n1      3.58      6.81         0.77         40.24  \n2     12.88      3.79         3.31         35.82  ",
      "text/html": "<div>\n<style scoped>\n    .dataframe tbody tr th:only-of-type {\n        vertical-align: middle;\n    }\n\n    .dataframe tbody tr th {\n        vertical-align: top;\n    }\n\n    .dataframe thead th {\n        text-align: right;\n    }\n</style>\n<table border=\"1\" class=\"dataframe\">\n  <thead>\n    <tr style=\"text-align: right;\">\n      <th></th>\n      <th>Rank</th>\n      <th>Name</th>\n      <th>Platform</th>\n      <th>Year</th>\n      <th>Genre</th>\n      <th>Publisher</th>\n      <th>NA_Sales</th>\n      <th>EU_Sales</th>\n      <th>JP_Sales</th>\n      <th>Other_Sales</th>\n      <th>Global_Sales</th>\n    </tr>\n  </thead>\n  <tbody>\n    <tr>\n      <th>0</th>\n      <td>1</td>\n      <td>Wii Sports</td>\n      <td>Wii</td>\n      <td>2006.0</td>\n      <td>Sports</td>\n      <td>Nintendo</td>\n      <td>41.49</td>\n      <td>29.02</td>\n      <td>3.77</td>\n      <td>8.46</td>\n      <td>82.74</td>\n    </tr>\n    <tr>\n      <th>1</th>\n      <td>2</td>\n      <td>Super Mario Bros.</td>\n      <td>NES</td>\n      <td>1985.0</td>\n      <td>Platform</td>\n      <td>Nintendo</td>\n      <td>29.08</td>\n      <td>3.58</td>\n      <td>6.81</td>\n      <td>0.77</td>\n      <td>40.24</td>\n    </tr>\n    <tr>\n      <th>2</th>\n      <td>3</td>\n      <td>Mario Kart Wii</td>\n      <td>Wii</td>\n      <td>2008.0</td>\n      <td>Racing</td>\n      <td>Nintendo</td>\n      <td>15.85</td>\n      <td>12.88</td>\n      <td>3.79</td>\n      <td>3.31</td>\n      <td>35.82</td>\n    </tr>\n  </tbody>\n</table>\n</div>"
     },
     "metadata": {},
     "execution_count": 4
    }
   ],
   "source": [
    "df = pd.read_csv('./data/Video_Game_Data/vgsales.csv')\n",
    "df.head(3)"
   ]
  },
  {
   "cell_type": "markdown",
   "metadata": {},
   "source": [
    "1. Which Comany is the most common video game publisher?"
   ]
  },
  {
   "cell_type": "code",
   "execution_count": 11,
   "metadata": {},
   "outputs": [
    {
     "output_type": "execute_result",
     "data": {
      "text/plain": "'Electronic Arts'"
     },
     "metadata": {},
     "execution_count": 11
    }
   ],
   "source": [
    "df['Publisher'].mode()[0]"
   ]
  },
  {
   "cell_type": "markdown",
   "metadata": {},
   "source": [
    "2. What's the most common platform?\n"
   ]
  },
  {
   "cell_type": "code",
   "execution_count": 10,
   "metadata": {},
   "outputs": [
    {
     "output_type": "execute_result",
     "data": {
      "text/plain": "'DS'"
     },
     "metadata": {},
     "execution_count": 10
    }
   ],
   "source": [
    "df['Platform'].mode()[0]"
   ]
  },
  {
   "cell_type": "markdown",
   "metadata": {},
   "source": [
    "3. What about the most common genre?"
   ]
  },
  {
   "cell_type": "code",
   "execution_count": 9,
   "metadata": {},
   "outputs": [
    {
     "output_type": "execute_result",
     "data": {
      "text/plain": "'Action'"
     },
     "metadata": {},
     "execution_count": 9
    }
   ],
   "source": [
    "df['Genre'].mode()[0]"
   ]
  },
  {
   "cell_type": "markdown",
   "metadata": {},
   "source": [
    "4. What are the top 20 highest grossing games?\n",
    "df.sort_values(by='col1', ascending=False)"
   ]
  },
  {
   "cell_type": "code",
   "execution_count": 19,
   "metadata": {},
   "outputs": [
    {
     "output_type": "execute_result",
     "data": {
      "text/plain": "    Rank                                          Name Platform    Year  \\\n0      1                                    Wii Sports      Wii  2006.0   \n1      2                             Super Mario Bros.      NES  1985.0   \n2      3                                Mario Kart Wii      Wii  2008.0   \n3      4                             Wii Sports Resort      Wii  2009.0   \n4      5                      Pokemon Red/Pokemon Blue       GB  1996.0   \n5      6                                        Tetris       GB  1989.0   \n6      7                         New Super Mario Bros.       DS  2006.0   \n7      8                                      Wii Play      Wii  2006.0   \n8      9                     New Super Mario Bros. Wii      Wii  2009.0   \n9     10                                     Duck Hunt      NES  1984.0   \n10    11                                    Nintendogs       DS  2005.0   \n11    12                                 Mario Kart DS       DS  2005.0   \n12    13                   Pokemon Gold/Pokemon Silver       GB  1999.0   \n13    14                                       Wii Fit      Wii  2007.0   \n14    15                                  Wii Fit Plus      Wii  2009.0   \n15    16                            Kinect Adventures!     X360  2010.0   \n16    17                            Grand Theft Auto V      PS3  2013.0   \n17    18                 Grand Theft Auto: San Andreas      PS2  2004.0   \n18    19                             Super Mario World     SNES  1990.0   \n19    20  Brain Age: Train Your Brain in Minutes a Day       DS  2005.0   \n\n           Genre               Publisher  NA_Sales  EU_Sales  JP_Sales  \\\n0         Sports                Nintendo     41.49     29.02      3.77   \n1       Platform                Nintendo     29.08      3.58      6.81   \n2         Racing                Nintendo     15.85     12.88      3.79   \n3         Sports                Nintendo     15.75     11.01      3.28   \n4   Role-Playing                Nintendo     11.27      8.89     10.22   \n5         Puzzle                Nintendo     23.20      2.26      4.22   \n6       Platform                Nintendo     11.38      9.23      6.50   \n7           Misc                Nintendo     14.03      9.20      2.93   \n8       Platform                Nintendo     14.59      7.06      4.70   \n9        Shooter                Nintendo     26.93      0.63      0.28   \n10    Simulation                Nintendo      9.07     11.00      1.93   \n11        Racing                Nintendo      9.81      7.57      4.13   \n12  Role-Playing                Nintendo      9.00      6.18      7.20   \n13        Sports                Nintendo      8.94      8.03      3.60   \n14        Sports                Nintendo      9.09      8.59      2.53   \n15          Misc  Microsoft Game Studios     14.97      4.94      0.24   \n16        Action    Take-Two Interactive      7.01      9.27      0.97   \n17        Action    Take-Two Interactive      9.43      0.40      0.41   \n18      Platform                Nintendo     12.78      3.75      3.54   \n19          Misc                Nintendo      4.75      9.26      4.16   \n\n    Other_Sales  Global_Sales  \n0          8.46         82.74  \n1          0.77         40.24  \n2          3.31         35.82  \n3          2.96         33.00  \n4          1.00         31.37  \n5          0.58         30.26  \n6          2.90         30.01  \n7          2.85         29.02  \n8          2.26         28.62  \n9          0.47         28.31  \n10         2.75         24.76  \n11         1.92         23.42  \n12         0.71         23.10  \n13         2.15         22.72  \n14         1.79         22.00  \n15         1.67         21.82  \n16         4.14         21.40  \n17        10.57         20.81  \n18         0.55         20.61  \n19         2.05         20.22  ",
      "text/html": "<div>\n<style scoped>\n    .dataframe tbody tr th:only-of-type {\n        vertical-align: middle;\n    }\n\n    .dataframe tbody tr th {\n        vertical-align: top;\n    }\n\n    .dataframe thead th {\n        text-align: right;\n    }\n</style>\n<table border=\"1\" class=\"dataframe\">\n  <thead>\n    <tr style=\"text-align: right;\">\n      <th></th>\n      <th>Rank</th>\n      <th>Name</th>\n      <th>Platform</th>\n      <th>Year</th>\n      <th>Genre</th>\n      <th>Publisher</th>\n      <th>NA_Sales</th>\n      <th>EU_Sales</th>\n      <th>JP_Sales</th>\n      <th>Other_Sales</th>\n      <th>Global_Sales</th>\n    </tr>\n  </thead>\n  <tbody>\n    <tr>\n      <th>0</th>\n      <td>1</td>\n      <td>Wii Sports</td>\n      <td>Wii</td>\n      <td>2006.0</td>\n      <td>Sports</td>\n      <td>Nintendo</td>\n      <td>41.49</td>\n      <td>29.02</td>\n      <td>3.77</td>\n      <td>8.46</td>\n      <td>82.74</td>\n    </tr>\n    <tr>\n      <th>1</th>\n      <td>2</td>\n      <td>Super Mario Bros.</td>\n      <td>NES</td>\n      <td>1985.0</td>\n      <td>Platform</td>\n      <td>Nintendo</td>\n      <td>29.08</td>\n      <td>3.58</td>\n      <td>6.81</td>\n      <td>0.77</td>\n      <td>40.24</td>\n    </tr>\n    <tr>\n      <th>2</th>\n      <td>3</td>\n      <td>Mario Kart Wii</td>\n      <td>Wii</td>\n      <td>2008.0</td>\n      <td>Racing</td>\n      <td>Nintendo</td>\n      <td>15.85</td>\n      <td>12.88</td>\n      <td>3.79</td>\n      <td>3.31</td>\n      <td>35.82</td>\n    </tr>\n    <tr>\n      <th>3</th>\n      <td>4</td>\n      <td>Wii Sports Resort</td>\n      <td>Wii</td>\n      <td>2009.0</td>\n      <td>Sports</td>\n      <td>Nintendo</td>\n      <td>15.75</td>\n      <td>11.01</td>\n      <td>3.28</td>\n      <td>2.96</td>\n      <td>33.00</td>\n    </tr>\n    <tr>\n      <th>4</th>\n      <td>5</td>\n      <td>Pokemon Red/Pokemon Blue</td>\n      <td>GB</td>\n      <td>1996.0</td>\n      <td>Role-Playing</td>\n      <td>Nintendo</td>\n      <td>11.27</td>\n      <td>8.89</td>\n      <td>10.22</td>\n      <td>1.00</td>\n      <td>31.37</td>\n    </tr>\n    <tr>\n      <th>5</th>\n      <td>6</td>\n      <td>Tetris</td>\n      <td>GB</td>\n      <td>1989.0</td>\n      <td>Puzzle</td>\n      <td>Nintendo</td>\n      <td>23.20</td>\n      <td>2.26</td>\n      <td>4.22</td>\n      <td>0.58</td>\n      <td>30.26</td>\n    </tr>\n    <tr>\n      <th>6</th>\n      <td>7</td>\n      <td>New Super Mario Bros.</td>\n      <td>DS</td>\n      <td>2006.0</td>\n      <td>Platform</td>\n      <td>Nintendo</td>\n      <td>11.38</td>\n      <td>9.23</td>\n      <td>6.50</td>\n      <td>2.90</td>\n      <td>30.01</td>\n    </tr>\n    <tr>\n      <th>7</th>\n      <td>8</td>\n      <td>Wii Play</td>\n      <td>Wii</td>\n      <td>2006.0</td>\n      <td>Misc</td>\n      <td>Nintendo</td>\n      <td>14.03</td>\n      <td>9.20</td>\n      <td>2.93</td>\n      <td>2.85</td>\n      <td>29.02</td>\n    </tr>\n    <tr>\n      <th>8</th>\n      <td>9</td>\n      <td>New Super Mario Bros. Wii</td>\n      <td>Wii</td>\n      <td>2009.0</td>\n      <td>Platform</td>\n      <td>Nintendo</td>\n      <td>14.59</td>\n      <td>7.06</td>\n      <td>4.70</td>\n      <td>2.26</td>\n      <td>28.62</td>\n    </tr>\n    <tr>\n      <th>9</th>\n      <td>10</td>\n      <td>Duck Hunt</td>\n      <td>NES</td>\n      <td>1984.0</td>\n      <td>Shooter</td>\n      <td>Nintendo</td>\n      <td>26.93</td>\n      <td>0.63</td>\n      <td>0.28</td>\n      <td>0.47</td>\n      <td>28.31</td>\n    </tr>\n    <tr>\n      <th>10</th>\n      <td>11</td>\n      <td>Nintendogs</td>\n      <td>DS</td>\n      <td>2005.0</td>\n      <td>Simulation</td>\n      <td>Nintendo</td>\n      <td>9.07</td>\n      <td>11.00</td>\n      <td>1.93</td>\n      <td>2.75</td>\n      <td>24.76</td>\n    </tr>\n    <tr>\n      <th>11</th>\n      <td>12</td>\n      <td>Mario Kart DS</td>\n      <td>DS</td>\n      <td>2005.0</td>\n      <td>Racing</td>\n      <td>Nintendo</td>\n      <td>9.81</td>\n      <td>7.57</td>\n      <td>4.13</td>\n      <td>1.92</td>\n      <td>23.42</td>\n    </tr>\n    <tr>\n      <th>12</th>\n      <td>13</td>\n      <td>Pokemon Gold/Pokemon Silver</td>\n      <td>GB</td>\n      <td>1999.0</td>\n      <td>Role-Playing</td>\n      <td>Nintendo</td>\n      <td>9.00</td>\n      <td>6.18</td>\n      <td>7.20</td>\n      <td>0.71</td>\n      <td>23.10</td>\n    </tr>\n    <tr>\n      <th>13</th>\n      <td>14</td>\n      <td>Wii Fit</td>\n      <td>Wii</td>\n      <td>2007.0</td>\n      <td>Sports</td>\n      <td>Nintendo</td>\n      <td>8.94</td>\n      <td>8.03</td>\n      <td>3.60</td>\n      <td>2.15</td>\n      <td>22.72</td>\n    </tr>\n    <tr>\n      <th>14</th>\n      <td>15</td>\n      <td>Wii Fit Plus</td>\n      <td>Wii</td>\n      <td>2009.0</td>\n      <td>Sports</td>\n      <td>Nintendo</td>\n      <td>9.09</td>\n      <td>8.59</td>\n      <td>2.53</td>\n      <td>1.79</td>\n      <td>22.00</td>\n    </tr>\n    <tr>\n      <th>15</th>\n      <td>16</td>\n      <td>Kinect Adventures!</td>\n      <td>X360</td>\n      <td>2010.0</td>\n      <td>Misc</td>\n      <td>Microsoft Game Studios</td>\n      <td>14.97</td>\n      <td>4.94</td>\n      <td>0.24</td>\n      <td>1.67</td>\n      <td>21.82</td>\n    </tr>\n    <tr>\n      <th>16</th>\n      <td>17</td>\n      <td>Grand Theft Auto V</td>\n      <td>PS3</td>\n      <td>2013.0</td>\n      <td>Action</td>\n      <td>Take-Two Interactive</td>\n      <td>7.01</td>\n      <td>9.27</td>\n      <td>0.97</td>\n      <td>4.14</td>\n      <td>21.40</td>\n    </tr>\n    <tr>\n      <th>17</th>\n      <td>18</td>\n      <td>Grand Theft Auto: San Andreas</td>\n      <td>PS2</td>\n      <td>2004.0</td>\n      <td>Action</td>\n      <td>Take-Two Interactive</td>\n      <td>9.43</td>\n      <td>0.40</td>\n      <td>0.41</td>\n      <td>10.57</td>\n      <td>20.81</td>\n    </tr>\n    <tr>\n      <th>18</th>\n      <td>19</td>\n      <td>Super Mario World</td>\n      <td>SNES</td>\n      <td>1990.0</td>\n      <td>Platform</td>\n      <td>Nintendo</td>\n      <td>12.78</td>\n      <td>3.75</td>\n      <td>3.54</td>\n      <td>0.55</td>\n      <td>20.61</td>\n    </tr>\n    <tr>\n      <th>19</th>\n      <td>20</td>\n      <td>Brain Age: Train Your Brain in Minutes a Day</td>\n      <td>DS</td>\n      <td>2005.0</td>\n      <td>Misc</td>\n      <td>Nintendo</td>\n      <td>4.75</td>\n      <td>9.26</td>\n      <td>4.16</td>\n      <td>2.05</td>\n      <td>20.22</td>\n    </tr>\n  </tbody>\n</table>\n</div>"
     },
     "metadata": {},
     "execution_count": 19
    }
   ],
   "source": [
    "df.sort_values(by='Global_Sales', ascending=False).head(20)"
   ]
  },
  {
   "cell_type": "markdown",
   "metadata": {},
   "source": [
    "5. For North American video game sales, what’s the median?\n",
    "    - Provide a secondary output showing ten games surrounding the median sales output\n",
    "        - assume that games with same median value are sorted in descending order"
   ]
  },
  {
   "cell_type": "code",
   "execution_count": 81,
   "metadata": {},
   "outputs": [],
   "source": [
    "sorted_NA = df.sort_values(by='NA_Sales', ascending=True)\n",
    "# na_median = df['NA_Sales'].median()\n",
    "# print(na_median) 0.08\n",
    "# median = len(sorted_NA.NA_Sales)/2\n",
    "\n",
    "# na_median_df = df.loc[df['NA_Sales'] == na_median]\n",
    "\n",
    "# na_median_df.shape\n",
    "\n"
   ]
  },
  {
   "cell_type": "markdown",
   "metadata": {},
   "source": [
    "6. For the top-selling game of all time, how many standard deviations above/below the mean are its sales for North America?"
   ]
  },
  {
   "cell_type": "markdown",
   "metadata": {},
   "source": [
    "7. The Nintendo Wii seems to have outdone itself with games. How does its average number of sales compare with all of the other platforms?"
   ]
  },
  {
   "cell_type": "code",
   "execution_count": 40,
   "metadata": {},
   "outputs": [],
   "source": [
    "is_wii = df['Platform']=='Wii' #boolean value\n",
    "is_not_wii = df['Platform']!='Wii' #boolean value\n",
    "\n",
    "df_wii_df = df[is_wii] #Filterd displaying all Wii platforms\n",
    "# df_wii_df.head(10)\n",
    "\n",
    "df_others_df = df[is_not_wii] #Filtered displaying all other platforms\n",
    "# df_others_df.head(10)\n",
    "\n",
    "wii_average_sales = df_wii_df['Global_Sales'].mean() # Average/Mean Global Sales WII\n",
    "# print(wii_average_sales)\n",
    "\n",
    "platform_list = df.Platform.unique()\n",
    "# print(platform_list)\n"
   ]
  },
  {
   "cell_type": "markdown",
   "metadata": {},
   "source": []
  },
  {
   "cell_type": "markdown",
   "metadata": {},
   "source": [
    "8. Come up with 3 more questions that can be answered with this data set  \n"
   ]
  },
  {
   "cell_type": "markdown",
   "metadata": {},
   "source": [
    "8.1 Show all published cames after the year 2000"
   ]
  },
  {
   "cell_type": "code",
   "execution_count": 82,
   "metadata": {},
   "outputs": [
    {
     "output_type": "execute_result",
     "data": {
      "text/plain": "   Rank                   Name Platform    Year     Genre Publisher  NA_Sales  \\\n0     1             Wii Sports      Wii  2006.0    Sports  Nintendo     41.49   \n2     3         Mario Kart Wii      Wii  2008.0    Racing  Nintendo     15.85   \n3     4      Wii Sports Resort      Wii  2009.0    Sports  Nintendo     15.75   \n6     7  New Super Mario Bros.       DS  2006.0  Platform  Nintendo     11.38   \n7     8               Wii Play      Wii  2006.0      Misc  Nintendo     14.03   \n\n   EU_Sales  JP_Sales  Other_Sales  Global_Sales  \n0     29.02      3.77         8.46         82.74  \n2     12.88      3.79         3.31         35.82  \n3     11.01      3.28         2.96         33.00  \n6      9.23      6.50         2.90         30.01  \n7      9.20      2.93         2.85         29.02  ",
      "text/html": "<div>\n<style scoped>\n    .dataframe tbody tr th:only-of-type {\n        vertical-align: middle;\n    }\n\n    .dataframe tbody tr th {\n        vertical-align: top;\n    }\n\n    .dataframe thead th {\n        text-align: right;\n    }\n</style>\n<table border=\"1\" class=\"dataframe\">\n  <thead>\n    <tr style=\"text-align: right;\">\n      <th></th>\n      <th>Rank</th>\n      <th>Name</th>\n      <th>Platform</th>\n      <th>Year</th>\n      <th>Genre</th>\n      <th>Publisher</th>\n      <th>NA_Sales</th>\n      <th>EU_Sales</th>\n      <th>JP_Sales</th>\n      <th>Other_Sales</th>\n      <th>Global_Sales</th>\n    </tr>\n  </thead>\n  <tbody>\n    <tr>\n      <th>0</th>\n      <td>1</td>\n      <td>Wii Sports</td>\n      <td>Wii</td>\n      <td>2006.0</td>\n      <td>Sports</td>\n      <td>Nintendo</td>\n      <td>41.49</td>\n      <td>29.02</td>\n      <td>3.77</td>\n      <td>8.46</td>\n      <td>82.74</td>\n    </tr>\n    <tr>\n      <th>2</th>\n      <td>3</td>\n      <td>Mario Kart Wii</td>\n      <td>Wii</td>\n      <td>2008.0</td>\n      <td>Racing</td>\n      <td>Nintendo</td>\n      <td>15.85</td>\n      <td>12.88</td>\n      <td>3.79</td>\n      <td>3.31</td>\n      <td>35.82</td>\n    </tr>\n    <tr>\n      <th>3</th>\n      <td>4</td>\n      <td>Wii Sports Resort</td>\n      <td>Wii</td>\n      <td>2009.0</td>\n      <td>Sports</td>\n      <td>Nintendo</td>\n      <td>15.75</td>\n      <td>11.01</td>\n      <td>3.28</td>\n      <td>2.96</td>\n      <td>33.00</td>\n    </tr>\n    <tr>\n      <th>6</th>\n      <td>7</td>\n      <td>New Super Mario Bros.</td>\n      <td>DS</td>\n      <td>2006.0</td>\n      <td>Platform</td>\n      <td>Nintendo</td>\n      <td>11.38</td>\n      <td>9.23</td>\n      <td>6.50</td>\n      <td>2.90</td>\n      <td>30.01</td>\n    </tr>\n    <tr>\n      <th>7</th>\n      <td>8</td>\n      <td>Wii Play</td>\n      <td>Wii</td>\n      <td>2006.0</td>\n      <td>Misc</td>\n      <td>Nintendo</td>\n      <td>14.03</td>\n      <td>9.20</td>\n      <td>2.93</td>\n      <td>2.85</td>\n      <td>29.02</td>\n    </tr>\n  </tbody>\n</table>\n</div>"
     },
     "metadata": {},
     "execution_count": 82
    }
   ],
   "source": [
    "df[df['Year'] > 2000].head(5)"
   ]
  },
  {
   "cell_type": "markdown",
   "metadata": {},
   "source": [
    "8.2 Show All Wii Games published after 2013"
   ]
  },
  {
   "cell_type": "code",
   "execution_count": 90,
   "metadata": {},
   "outputs": [
    {
     "output_type": "execute_result",
     "data": {
      "text/plain": "      Rank                        Name Platform    Year      Genre  \\\n698    700             Just Dance 2015      Wii  2014.0       Misc   \n1670  1672             Just Dance 2016      Wii  2015.0       Misc   \n1967  1969       Skylanders: Trap Team      Wii  2014.0     Action   \n2716  2718                     FIFA 15      Wii  2014.0     Sports   \n6266  6268  How to Train Your Dragon 2      Wii  2014.0  Adventure   \n\n            Publisher  NA_Sales  EU_Sales  JP_Sales  Other_Sales  Global_Sales  \n698           Ubisoft      1.11      0.98       0.0         0.20          2.28  \n1670          Ubisoft      0.52      0.59       0.0         0.10          1.20  \n1967       Activision      0.42      0.54       0.0         0.08          1.05  \n2716  Electronic Arts      0.24      0.46       0.0         0.06          0.76  \n6266     Little Orbit      0.05      0.20       0.0         0.02          0.27  ",
      "text/html": "<div>\n<style scoped>\n    .dataframe tbody tr th:only-of-type {\n        vertical-align: middle;\n    }\n\n    .dataframe tbody tr th {\n        vertical-align: top;\n    }\n\n    .dataframe thead th {\n        text-align: right;\n    }\n</style>\n<table border=\"1\" class=\"dataframe\">\n  <thead>\n    <tr style=\"text-align: right;\">\n      <th></th>\n      <th>Rank</th>\n      <th>Name</th>\n      <th>Platform</th>\n      <th>Year</th>\n      <th>Genre</th>\n      <th>Publisher</th>\n      <th>NA_Sales</th>\n      <th>EU_Sales</th>\n      <th>JP_Sales</th>\n      <th>Other_Sales</th>\n      <th>Global_Sales</th>\n    </tr>\n  </thead>\n  <tbody>\n    <tr>\n      <th>698</th>\n      <td>700</td>\n      <td>Just Dance 2015</td>\n      <td>Wii</td>\n      <td>2014.0</td>\n      <td>Misc</td>\n      <td>Ubisoft</td>\n      <td>1.11</td>\n      <td>0.98</td>\n      <td>0.0</td>\n      <td>0.20</td>\n      <td>2.28</td>\n    </tr>\n    <tr>\n      <th>1670</th>\n      <td>1672</td>\n      <td>Just Dance 2016</td>\n      <td>Wii</td>\n      <td>2015.0</td>\n      <td>Misc</td>\n      <td>Ubisoft</td>\n      <td>0.52</td>\n      <td>0.59</td>\n      <td>0.0</td>\n      <td>0.10</td>\n      <td>1.20</td>\n    </tr>\n    <tr>\n      <th>1967</th>\n      <td>1969</td>\n      <td>Skylanders: Trap Team</td>\n      <td>Wii</td>\n      <td>2014.0</td>\n      <td>Action</td>\n      <td>Activision</td>\n      <td>0.42</td>\n      <td>0.54</td>\n      <td>0.0</td>\n      <td>0.08</td>\n      <td>1.05</td>\n    </tr>\n    <tr>\n      <th>2716</th>\n      <td>2718</td>\n      <td>FIFA 15</td>\n      <td>Wii</td>\n      <td>2014.0</td>\n      <td>Sports</td>\n      <td>Electronic Arts</td>\n      <td>0.24</td>\n      <td>0.46</td>\n      <td>0.0</td>\n      <td>0.06</td>\n      <td>0.76</td>\n    </tr>\n    <tr>\n      <th>6266</th>\n      <td>6268</td>\n      <td>How to Train Your Dragon 2</td>\n      <td>Wii</td>\n      <td>2014.0</td>\n      <td>Adventure</td>\n      <td>Little Orbit</td>\n      <td>0.05</td>\n      <td>0.20</td>\n      <td>0.0</td>\n      <td>0.02</td>\n      <td>0.27</td>\n    </tr>\n  </tbody>\n</table>\n</div>"
     },
     "metadata": {},
     "execution_count": 90
    }
   ],
   "source": [
    "is_wii = df['Platform']=='Wii'\n",
    "df_wii_df = df[is_wii]\n",
    "df_wii_df[df['Year'] > 2013].head(5)"
   ]
  },
  {
   "cell_type": "markdown",
   "metadata": {},
   "source": [
    "8.3 Create a List of all different Platforms"
   ]
  },
  {
   "cell_type": "code",
   "execution_count": 91,
   "metadata": {},
   "outputs": [
    {
     "output_type": "execute_result",
     "data": {
      "text/plain": "array(['Wii', 'NES', 'GB', 'DS', 'X360', 'PS3', 'PS2', 'SNES', 'GBA',\n       '3DS', 'PS4', 'N64', 'PS', 'XB', 'PC', '2600', 'PSP', 'XOne', 'GC',\n       'WiiU', 'GEN', 'DC', 'PSV', 'SAT', 'SCD', 'WS', 'NG', 'TG16',\n       '3DO', 'GG', 'PCFX'], dtype=object)"
     },
     "metadata": {},
     "execution_count": 91
    }
   ],
   "source": [
    "df.Platform.unique()"
   ]
  },
  {
   "cell_type": "code",
   "execution_count": null,
   "metadata": {},
   "outputs": [],
   "source": []
  }
 ],
 "metadata": {
  "language_info": {
   "codemirror_mode": {
    "name": "ipython",
    "version": 3
   },
   "file_extension": ".py",
   "mimetype": "text/x-python",
   "name": "python",
   "nbconvert_exporter": "python",
   "pygments_lexer": "ipython3",
   "version": "3.8.2-final"
  },
  "orig_nbformat": 2,
  "kernelspec": {
   "name": "python38264bit382pyenv71b6c2bd0c33497c886896d7c36ef894",
   "display_name": "Python 3.8.2 64-bit ('3.8.2': pyenv)"
  }
 },
 "nbformat": 4,
 "nbformat_minor": 2
}