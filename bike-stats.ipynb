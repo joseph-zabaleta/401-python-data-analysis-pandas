{
 "cells": [
  {
   "cell_type": "markdown",
   "metadata": {},
   "source": [
    "# Lab 12: Data Analysis with Pandas\n",
    "## Bicycle Trip Data From Seattle's Cycle Share System\n",
    "#### By: Joseph Zabaleta \n",
    "##### Date: 20200527\n",
    "---"
   ]
  },
  {
   "cell_type": "markdown",
   "metadata": {},
   "source": [
    "### Importing Dependencies, Creating DataFrames with Panda from local Files:"
   ]
  },
  {
   "cell_type": "code",
   "execution_count": 2,
   "metadata": {},
   "outputs": [],
   "source": [
    "import pandas as pd"
   ]
  },
  {
   "cell_type": "code",
   "execution_count": 12,
   "metadata": {},
   "outputs": [
    {
     "output_type": "execute_result",
     "data": {
      "text/plain": "   trip_id         starttime          stoptime    bikeid  tripduration  \\\n0      431  10/13/2014 10:31  10/13/2014 10:48  SEA00298       985.935   \n1      432  10/13/2014 10:32  10/13/2014 10:48  SEA00195       926.375   \n2      433  10/13/2014 10:33  10/13/2014 10:48  SEA00486       883.831   \n\n     from_station_name                                    to_station_name  \\\n0  2nd Ave & Spring St  Occidental Park / Occidental Ave S & S Washing...   \n1  2nd Ave & Spring St  Occidental Park / Occidental Ave S & S Washing...   \n2  2nd Ave & Spring St  Occidental Park / Occidental Ave S & S Washing...   \n\n  from_station_id to_station_id usertype  gender  birthyear  \n0          CBD-06         PS-04   Member    Male     1960.0  \n1          CBD-06         PS-04   Member    Male     1970.0  \n2          CBD-06         PS-04   Member  Female     1988.0  ",
      "text/html": "<div>\n<style scoped>\n    .dataframe tbody tr th:only-of-type {\n        vertical-align: middle;\n    }\n\n    .dataframe tbody tr th {\n        vertical-align: top;\n    }\n\n    .dataframe thead th {\n        text-align: right;\n    }\n</style>\n<table border=\"1\" class=\"dataframe\">\n  <thead>\n    <tr style=\"text-align: right;\">\n      <th></th>\n      <th>trip_id</th>\n      <th>starttime</th>\n      <th>stoptime</th>\n      <th>bikeid</th>\n      <th>tripduration</th>\n      <th>from_station_name</th>\n      <th>to_station_name</th>\n      <th>from_station_id</th>\n      <th>to_station_id</th>\n      <th>usertype</th>\n      <th>gender</th>\n      <th>birthyear</th>\n    </tr>\n  </thead>\n  <tbody>\n    <tr>\n      <th>0</th>\n      <td>431</td>\n      <td>10/13/2014 10:31</td>\n      <td>10/13/2014 10:48</td>\n      <td>SEA00298</td>\n      <td>985.935</td>\n      <td>2nd Ave &amp; Spring St</td>\n      <td>Occidental Park / Occidental Ave S &amp; S Washing...</td>\n      <td>CBD-06</td>\n      <td>PS-04</td>\n      <td>Member</td>\n      <td>Male</td>\n      <td>1960.0</td>\n    </tr>\n    <tr>\n      <th>1</th>\n      <td>432</td>\n      <td>10/13/2014 10:32</td>\n      <td>10/13/2014 10:48</td>\n      <td>SEA00195</td>\n      <td>926.375</td>\n      <td>2nd Ave &amp; Spring St</td>\n      <td>Occidental Park / Occidental Ave S &amp; S Washing...</td>\n      <td>CBD-06</td>\n      <td>PS-04</td>\n      <td>Member</td>\n      <td>Male</td>\n      <td>1970.0</td>\n    </tr>\n    <tr>\n      <th>2</th>\n      <td>433</td>\n      <td>10/13/2014 10:33</td>\n      <td>10/13/2014 10:48</td>\n      <td>SEA00486</td>\n      <td>883.831</td>\n      <td>2nd Ave &amp; Spring St</td>\n      <td>Occidental Park / Occidental Ave S &amp; S Washing...</td>\n      <td>CBD-06</td>\n      <td>PS-04</td>\n      <td>Member</td>\n      <td>Female</td>\n      <td>1988.0</td>\n    </tr>\n  </tbody>\n</table>\n</div>"
     },
     "metadata": {},
     "execution_count": 12
    }
   ],
   "source": [
    "df_trips = pd.read_csv('./data/Cycle_Share_Data/trip.csv')\n",
    "df_trips.head(3)"
   ]
  },
  {
   "cell_type": "code",
   "execution_count": 4,
   "metadata": {},
   "outputs": [
    {
     "output_type": "execute_result",
     "data": {
      "text/plain": "         Date  Max_Temperature_F  Mean_Temperature_F  Min_TemperatureF  \\\n0  10/13/2014                 71                62.0                54   \n1  10/14/2014                 63                59.0                55   \n2  10/15/2014                 62                58.0                54   \n\n   Max_Dew_Point_F  MeanDew_Point_F  Min_Dewpoint_F  Max_Humidity  \\\n0               55               51              46            87   \n1               52               51              50            88   \n2               53               50              46            87   \n\n   Mean_Humidity  Min_Humidity  ...  Mean_Sea_Level_Pressure_In  \\\n0             68            46  ...                       29.79   \n1             78            63  ...                       29.75   \n2             77            67  ...                       29.71   \n\n   Min_Sea_Level_Pressure_In  Max_Visibility_Miles  Mean_Visibility_Miles  \\\n0                      29.65                    10                     10   \n1                      29.54                    10                      9   \n2                      29.51                    10                      9   \n\n   Min_Visibility_Miles  Max_Wind_Speed_MPH  Mean_Wind_Speed_MPH  \\\n0                     4                  13                    4   \n1                     3                  10                    5   \n2                     3                  18                    7   \n\n   Max_Gust_Speed_MPH Precipitation_In  Events  \n0                  21             0.00    Rain  \n1                  17             0.11    Rain  \n2                  25             0.45    Rain  \n\n[3 rows x 21 columns]",
      "text/html": "<div>\n<style scoped>\n    .dataframe tbody tr th:only-of-type {\n        vertical-align: middle;\n    }\n\n    .dataframe tbody tr th {\n        vertical-align: top;\n    }\n\n    .dataframe thead th {\n        text-align: right;\n    }\n</style>\n<table border=\"1\" class=\"dataframe\">\n  <thead>\n    <tr style=\"text-align: right;\">\n      <th></th>\n      <th>Date</th>\n      <th>Max_Temperature_F</th>\n      <th>Mean_Temperature_F</th>\n      <th>Min_TemperatureF</th>\n      <th>Max_Dew_Point_F</th>\n      <th>MeanDew_Point_F</th>\n      <th>Min_Dewpoint_F</th>\n      <th>Max_Humidity</th>\n      <th>Mean_Humidity</th>\n      <th>Min_Humidity</th>\n      <th>...</th>\n      <th>Mean_Sea_Level_Pressure_In</th>\n      <th>Min_Sea_Level_Pressure_In</th>\n      <th>Max_Visibility_Miles</th>\n      <th>Mean_Visibility_Miles</th>\n      <th>Min_Visibility_Miles</th>\n      <th>Max_Wind_Speed_MPH</th>\n      <th>Mean_Wind_Speed_MPH</th>\n      <th>Max_Gust_Speed_MPH</th>\n      <th>Precipitation_In</th>\n      <th>Events</th>\n    </tr>\n  </thead>\n  <tbody>\n    <tr>\n      <th>0</th>\n      <td>10/13/2014</td>\n      <td>71</td>\n      <td>62.0</td>\n      <td>54</td>\n      <td>55</td>\n      <td>51</td>\n      <td>46</td>\n      <td>87</td>\n      <td>68</td>\n      <td>46</td>\n      <td>...</td>\n      <td>29.79</td>\n      <td>29.65</td>\n      <td>10</td>\n      <td>10</td>\n      <td>4</td>\n      <td>13</td>\n      <td>4</td>\n      <td>21</td>\n      <td>0.00</td>\n      <td>Rain</td>\n    </tr>\n    <tr>\n      <th>1</th>\n      <td>10/14/2014</td>\n      <td>63</td>\n      <td>59.0</td>\n      <td>55</td>\n      <td>52</td>\n      <td>51</td>\n      <td>50</td>\n      <td>88</td>\n      <td>78</td>\n      <td>63</td>\n      <td>...</td>\n      <td>29.75</td>\n      <td>29.54</td>\n      <td>10</td>\n      <td>9</td>\n      <td>3</td>\n      <td>10</td>\n      <td>5</td>\n      <td>17</td>\n      <td>0.11</td>\n      <td>Rain</td>\n    </tr>\n    <tr>\n      <th>2</th>\n      <td>10/15/2014</td>\n      <td>62</td>\n      <td>58.0</td>\n      <td>54</td>\n      <td>53</td>\n      <td>50</td>\n      <td>46</td>\n      <td>87</td>\n      <td>77</td>\n      <td>67</td>\n      <td>...</td>\n      <td>29.71</td>\n      <td>29.51</td>\n      <td>10</td>\n      <td>9</td>\n      <td>3</td>\n      <td>18</td>\n      <td>7</td>\n      <td>25</td>\n      <td>0.45</td>\n      <td>Rain</td>\n    </tr>\n  </tbody>\n</table>\n<p>3 rows × 21 columns</p>\n</div>"
     },
     "metadata": {},
     "execution_count": 4
    }
   ],
   "source": [
    "df_weather = pd.read_csv('./data/Cycle_Share_Data/weather.csv')\n",
    "df_weather.head(3)"
   ]
  },
  {
   "cell_type": "code",
   "execution_count": 5,
   "metadata": {},
   "outputs": [
    {
     "output_type": "execute_result",
     "data": {
      "text/plain": "  station_id                    name        lat        long install_date  \\\n0      BT-01      3rd Ave & Broad St  47.618418 -122.350964   10/13/2014   \n1      BT-03       2nd Ave & Vine St  47.615829 -122.348564   10/13/2014   \n2      BT-04  6th Ave & Blanchard St  47.616094 -122.341102   10/13/2014   \n\n   install_dockcount modification_date  current_dockcount decommission_date  \n0                 18               NaN                 18               NaN  \n1                 16               NaN                 16               NaN  \n2                 16               NaN                 16               NaN  ",
      "text/html": "<div>\n<style scoped>\n    .dataframe tbody tr th:only-of-type {\n        vertical-align: middle;\n    }\n\n    .dataframe tbody tr th {\n        vertical-align: top;\n    }\n\n    .dataframe thead th {\n        text-align: right;\n    }\n</style>\n<table border=\"1\" class=\"dataframe\">\n  <thead>\n    <tr style=\"text-align: right;\">\n      <th></th>\n      <th>station_id</th>\n      <th>name</th>\n      <th>lat</th>\n      <th>long</th>\n      <th>install_date</th>\n      <th>install_dockcount</th>\n      <th>modification_date</th>\n      <th>current_dockcount</th>\n      <th>decommission_date</th>\n    </tr>\n  </thead>\n  <tbody>\n    <tr>\n      <th>0</th>\n      <td>BT-01</td>\n      <td>3rd Ave &amp; Broad St</td>\n      <td>47.618418</td>\n      <td>-122.350964</td>\n      <td>10/13/2014</td>\n      <td>18</td>\n      <td>NaN</td>\n      <td>18</td>\n      <td>NaN</td>\n    </tr>\n    <tr>\n      <th>1</th>\n      <td>BT-03</td>\n      <td>2nd Ave &amp; Vine St</td>\n      <td>47.615829</td>\n      <td>-122.348564</td>\n      <td>10/13/2014</td>\n      <td>16</td>\n      <td>NaN</td>\n      <td>16</td>\n      <td>NaN</td>\n    </tr>\n    <tr>\n      <th>2</th>\n      <td>BT-04</td>\n      <td>6th Ave &amp; Blanchard St</td>\n      <td>47.616094</td>\n      <td>-122.341102</td>\n      <td>10/13/2014</td>\n      <td>16</td>\n      <td>NaN</td>\n      <td>16</td>\n      <td>NaN</td>\n    </tr>\n  </tbody>\n</table>\n</div>"
     },
     "metadata": {},
     "execution_count": 5
    }
   ],
   "source": [
    "df_station = pd.read_csv('./data/Cycle_Share_Data/station.csv')\n",
    "df_station.head(3)"
   ]
  },
  {
   "cell_type": "markdown",
   "metadata": {},
   "source": [
    "---\n",
    "### 1. What is the average trip duration for a borrowed bicycle?"
   ]
  },
  {
   "cell_type": "code",
   "execution_count": 13,
   "metadata": {},
   "outputs": [
    {
     "output_type": "execute_result",
     "data": {
      "text/plain": "1178"
     },
     "metadata": {},
     "execution_count": 13
    }
   ],
   "source": [
    "average_duration = int(df_trips['tripduration'].mean())\n",
    "average_duration"
   ]
  },
  {
   "cell_type": "markdown",
   "metadata": {},
   "source": [
    "---\n",
    "### 2. What’s the most common age of a bicycle-sharer?"
   ]
  },
  {
   "cell_type": "code",
   "execution_count": 15,
   "metadata": {},
   "outputs": [
    {
     "output_type": "execute_result",
     "data": {
      "text/plain": "33"
     },
     "metadata": {},
     "execution_count": 15
    }
   ],
   "source": [
    "def problem_2():\n",
    "    mc_year = df_trips['birthyear'].mode()\n",
    "    mc_age = 2020 - mc_year\n",
    "    return mc_age\n",
    "common_age = int(problem_2()[0])\n",
    "common_age"
   ]
  },
  {
   "cell_type": "markdown",
   "metadata": {},
   "source": [
    "---\n",
    "### 3. Given all the weather data here, find the average precipitation per month, and the median precipitation."
   ]
  },
  {
   "cell_type": "code",
   "execution_count": 38,
   "metadata": {},
   "outputs": [
    {
     "output_type": "error",
     "ename": "SyntaxError",
     "evalue": "invalid syntax (<ipython-input-38-b27d65d062f0>, line 1)",
     "traceback": [
      "\u001b[0;36m  File \u001b[0;32m\"<ipython-input-38-b27d65d062f0>\"\u001b[0;36m, line \u001b[0;32m1\u001b[0m\n\u001b[0;31m    df_weather['Month'] = df_weather.apply(lamda mo: mo['Date'].split('/')[0], axis = 1)\u001b[0m\n\u001b[0m                                                 ^\u001b[0m\n\u001b[0;31mSyntaxError\u001b[0m\u001b[0;31m:\u001b[0m invalid syntax\n"
     ]
    }
   ],
   "source": [
    "df_weather['Month'] = df_weather.apply(lambda mo: mo['Date'].split('/')[0], axis = 1)\n",
    "df_weather['Month']"
   ]
  },
  {
   "cell_type": "markdown",
   "metadata": {},
   "source": [
    "---\n",
    "### 4. What’s the average number of bikes at a given bike station?"
   ]
  },
  {
   "cell_type": "code",
   "execution_count": null,
   "metadata": {},
   "outputs": [],
   "source": []
  },
  {
   "cell_type": "code",
   "execution_count": 24,
   "metadata": {},
   "outputs": [
    {
     "output_type": "execute_result",
     "data": {
      "text/plain": "17"
     },
     "metadata": {},
     "execution_count": 24
    }
   ],
   "source": [
    "filter_true = df_station['decommission_date'].isna()\n",
    "average_bike = int(df_station[filter_true]['current_dockcount'].mean())\n",
    "average_bike"
   ]
  },
  {
   "cell_type": "markdown",
   "metadata": {},
   "source": [
    "---\n",
    "### 5. When a bike station is modified, is it more likely that it’ll lose bikes or gain bikes? How do you know?"
   ]
  },
  {
   "cell_type": "code",
   "execution_count": 37,
   "metadata": {},
   "outputs": [],
   "source": [
    "filter_false = df_station['modification_date'].notna()\n",
    "df_modified = df_station[filter_false]\n",
    "install_dockcount = df_modified['install_dockcount']\n",
    "current_dockcount = df_modified['current_dockcount']\n",
    "\n",
    "install_greater_than_current = install_dockcount > current_dockcount # length 17\n",
    "install_less_than_current = install_dockcount < current_dockcount # length 17\n",
    "\n",
    "change_a = len(df_modified[install_greater_than_current]) # length 10\n",
    "change_b = len(df_modified[install_less_than_current]) # length 7\n",
    "\n"
   ]
  },
  {
   "cell_type": "markdown",
   "metadata": {},
   "source": [
    "The above code might not be very clear, but to find out if when a bike station is modified that it gains or loses bikes we count the installed stations, and current stations. We filter the modifcation date based on original dockcount and current dockcount after modification. change_b represents original installed, change_a shows current dockcount, 10 - 7 = 3. That out of the modified stations, there were 3 more stations that gained bikes than stations that broke even or loss bikes."
   ]
  },
  {
   "cell_type": "markdown",
   "metadata": {},
   "source": [
    "---\n",
    "## Tests\n"
   ]
  },
  {
   "cell_type": "code",
   "execution_count": 23,
   "metadata": {},
   "outputs": [
    {
     "output_type": "stream",
     "name": "stdout",
     "text": "Success!!!\n"
    }
   ],
   "source": [
    "def test():\n",
    "    def assert_equal(actual, expected):\n",
    "        assert actual == expected, f\"Expected {expected} but got {actual}\"\n",
    "    \n",
    "    assert_equal(average_duration, 1178)\n",
    "    assert_equal(common_age, 33)\n",
    "    assert_equal(average_bike, 17)\n",
    "\n",
    "    print(\"Success!!!\")\n",
    "test()"
   ]
  },
  {
   "cell_type": "markdown",
   "metadata": {},
   "source": [
    "---\n",
    "## 6. Come up with 3 more questions that can be answered with this data set."
   ]
  },
  {
   "cell_type": "markdown",
   "metadata": {},
   "source": [
    "### 6.1 Most common destination for members?"
   ]
  },
  {
   "cell_type": "code",
   "execution_count": 8,
   "metadata": {},
   "outputs": [
    {
     "output_type": "execute_result",
     "data": {
      "text/plain": "0    2nd Ave & Pine St\ndtype: object"
     },
     "metadata": {},
     "execution_count": 8
    }
   ],
   "source": [
    "df_trips['to_station_name'].mode()"
   ]
  },
  {
   "cell_type": "markdown",
   "metadata": {},
   "source": [
    "---\n",
    "### 6.2 Top 5 most common destination for members?"
   ]
  },
  {
   "cell_type": "code",
   "execution_count": 9,
   "metadata": {},
   "outputs": [
    {
     "output_type": "execute_result",
     "data": {
      "text/plain": "2nd Ave & Pine St                  13784\nPier 69 / Alaskan Way & Clay St    13736\nWestlake Ave & 6th Ave             10961\n3rd Ave & Broad St                 10737\nPATH / 9th Ave & Westlake Ave      10632\nName: to_station_name, dtype: int64"
     },
     "metadata": {},
     "execution_count": 9
    }
   ],
   "source": [
    "df_trips['to_station_name'].value_counts().head(5)"
   ]
  },
  {
   "cell_type": "markdown",
   "metadata": {},
   "source": [
    "---\n",
    "### 6.3 The percentage of male and female riders"
   ]
  },
  {
   "cell_type": "code",
   "execution_count": 10,
   "metadata": {},
   "outputs": [],
   "source": [
    "is_male = df_trips['gender'] == 'Male'\n",
    "is_female = df_trips['gender'] == 'Female'\n",
    "male_data = df_trips[is_male]\n",
    "female_data = df_trips[is_female]\n",
    "\n",
    "total_rows = df_trips.shape[0]\n",
    "male_rows = male_data.shape[0]\n",
    "female_rows = male_data.shape[0]\n",
    "\n",
    "male_percentage = male_rows / total_rows\n",
    "female_percentage = female_rows / total_rows\n",
    "\n",
    "output = f\"There are a total of {total_rows} records with {male_percentage} males and {female_percentage} females\""
   ]
  },
  {
   "cell_type": "code",
   "execution_count": null,
   "metadata": {},
   "outputs": [],
   "source": []
  }
 ],
 "metadata": {
  "language_info": {
   "codemirror_mode": {
    "name": "ipython",
    "version": 3
   },
   "file_extension": ".py",
   "mimetype": "text/x-python",
   "name": "python",
   "nbconvert_exporter": "python",
   "pygments_lexer": "ipython3",
   "version": "3.8.2-final"
  },
  "orig_nbformat": 2,
  "kernelspec": {
   "name": "python38264bit382pyenv7df80e8cfde04423b87794ac92aaefa5",
   "display_name": "Python 3.8.2 64-bit ('3.8.2': pyenv)"
  }
 },
 "nbformat": 4,
 "nbformat_minor": 2
}